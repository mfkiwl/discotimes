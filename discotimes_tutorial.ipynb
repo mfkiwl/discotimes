{
 "cells": [
  {
   "cell_type": "markdown",
   "metadata": {},
   "source": [
    "# Quick Start\n",
    "\n",
    "-----\n",
    "<a id='top'></a>\n",
    "\n",
    "## DiscoTimeS\n",
    "\n",
    "<div style=\"height:10px;\"></div>\n",
    "\n",
    "- [// Why discotimes?](#why)\n",
    "- [// Setting up the data/model](#setup)\n",
    "- [// Running the model](#running)\n",
    "- [// Plotting and Visualization](#plotting-and-visualization)\n",
    "- [// Model output](#output)\n",
    "- [// Command line interface - Fitting multiple files](#cli)\n",
    "- [// References](#References)\n",
    "\n",
    "-----"
   ]
  },
  {
   "cell_type": "markdown",
   "metadata": {},
   "source": [
    "<a id='why'></a>\n",
    "### Why DiscoTimeS?\n",
    "\n",
    "DiscoTimeS is a tool to estimate DISCOntinuities in TIME Series. It is particularly designed for geophyiscal time series, i.e., long (~years to decadal) observations from GPS and 'satellite altimetry minus tide gauge' data, but can be applied to any kind of data with similar features.\n",
    "It estimates the following components:\n",
    "\n",
    "* base trend\n",
    "* base offset\n",
    "* change points\n",
    "* change point positions\n",
    "* discontinuities\n",
    "* incremental trend changes\n",
    "* multiyear monthly-mean annual cycle\n",
    "* Noise properties of residuals (currently only AR1)\n",
    "\n",
    "#### Model definition\n",
    "\n",
    "The trends g(t) and offsets o(t) are therefore time dependent components of the model:\n",
    "\n",
    "\\begin{equation}\n",
    "y(t) = o(t) + g(t) + seas  + \\eta  \\label{eq:02}\n",
    "\\end{equation}\n",
    "\n",
    "#### Model fitting\n",
    "\n",
    "The model parameter are simultaneously estimated within a Bayesian Framework. The model implementation, the distribution setups and the sampling algorithms are all based on PyMC3, an extensive python-library to setup Bayesian models (see https://docs.pymc.io/). More information on the exact implementation is given in the paper."
   ]
  },
  {
   "cell_type": "markdown",
   "metadata": {},
   "source": [
    "[back to top ](#top)"
   ]
  },
  {
   "cell_type": "markdown",
   "metadata": {},
   "source": [
    "-----\n",
    "### Setting up the data/model\n",
    "<a id='setup'></a>\n",
    "\n",
    "This section describes the model usage in a python IDE. Please go to section [Command line interface - Fitting multiple files](#cli) for the CLI implementation."
   ]
  },
  {
   "cell_type": "markdown",
   "metadata": {},
   "source": [
    "To set up the model import the discotimes class and the standard model settings and have a look into the model settings."
   ]
  },
  {
   "cell_type": "code",
   "execution_count": 74,
   "metadata": {},
   "outputs": [
    {
     "data": {
      "text/plain": [
       "{'model_settings': {'n_changepoints': 5,\n",
       "  'offsets_std': 20.0,\n",
       "  'model': None,\n",
       "  'name': '',\n",
       "  'change_trend': True,\n",
       "  'change_offsets': True,\n",
       "  'n_samples': 8000,\n",
       "  'trend_inc_sigma': 1.0,\n",
       "  'post_seismic': False,\n",
       "  'estimate_offset_sigma': True,\n",
       "  'estimate_trend_inc_sigma': True,\n",
       "  'annual_cycle': True,\n",
       "  'AR1': True,\n",
       "  'p_': 0.1,\n",
       "  'initial_values': {}},\n",
       " 'run_settings': {'n_samples': 8000,\n",
       "  'tune': 2000,\n",
       "  'cores': 8,\n",
       "  'nuts': {'target_accept': 0.9},\n",
       "  'return_inferencedata': True,\n",
       "  'compress': True},\n",
       " 'initial_run_settings': {'detection_threshold': 15,\n",
       "  'detection_resolution': 4,\n",
       "  'method': 'diff'}}"
      ]
     },
     "execution_count": 74,
     "metadata": {},
     "output_type": "execute_result"
    }
   ],
   "source": [
    "from discotimes.discotimes import discotimes as dt\n",
    "from discotimes.model_settings import set_settings\n",
    "settings = set_settings()\n",
    "settings"
   ]
  },
  {
   "cell_type": "markdown",
   "metadata": {},
   "source": [
    "The dictionary contains information required for the priors ('model_settings'), the sampling ('run_settings'), as well as some information for a pre-fit discontinuity detection ('initial_run_settings'). \n"
   ]
  },
  {
   "cell_type": "markdown",
   "metadata": {},
   "source": [
    "#### Model settings\n",
    "You can change the model settings to meet your requirements: If you don't want to allow for trend changes (but still for discontinuities) set 'change_trend' to False. Change 'n_changepoints' for a different number of maximum allowed change points, or set the assumption initial probability of change points to occur to 30%, e.g.  "
   ]
  },
  {
   "cell_type": "code",
   "execution_count": 75,
   "metadata": {},
   "outputs": [],
   "source": [
    "settings['model_settings']['p_']= 0.3"
   ]
  },
  {
   "cell_type": "markdown",
   "metadata": {},
   "source": [
    "#### Run settings\n",
    "Control the number of cores ('cores') used or the number of sampling iterations ('n_samples'). You can also control settings of the NUTS sampler (https://docs.pymc.io/api/inference.html)"
   ]
  },
  {
   "cell_type": "markdown",
   "metadata": {},
   "source": [
    "#### Data input\n",
    "Now load some data. We use a GNSS height time series, which is can be downloaded from the repository in discotimes/examples/G103.txt. Note that we use file_reader, which can handle different types of input data like .tenv3, .txyz2, .txt, .csv and netcdf. Data in .txt or .csv files should have a variable column named 'Height' (default, otherwise define variable), and a date column ('Year'), specifying the date like 2000.2342. The output is a pd.Series object.\n",
    "\n",
    "You can also input the variable names as column indices (e.g., variable = 2). Please refer to, e.g., http://geodesy.unr.edu/gps_timeseries/README_txyz2.txt, http://geodesy.unr.edu/gps_timeseries/tenv3/IGS14/0ARK.tenv3, for more information on .tenv3 and .txyz2 files. "
   ]
  },
  {
   "cell_type": "code",
   "execution_count": 2,
   "metadata": {
    "scrolled": true
   },
   "outputs": [
    {
     "data": {
      "text/plain": [
       "<matplotlib.axes._subplots.AxesSubplot at 0x7fd2a9846860>"
      ]
     },
     "execution_count": 2,
     "metadata": {},
     "output_type": "execute_result"
    },
    {
     "data": {
      "image/png": "[encoded data removed]",
      "text/plain": [
       "<Figure size 432x288 with 1 Axes>"
      ]
     },
     "metadata": {
      "needs_background": "light"
     },
     "output_type": "display_data"
    }
   ],
   "source": [
    "from discotimes.discotimes import file_reader \n",
    "file = 'discotimes/examples/G103.txt'\n",
    "series = file_reader(file,variable='auto',resample='W')\n",
    "series.plot()"
   ]
  },
  {
   "cell_type": "markdown",
   "metadata": {},
   "source": [
    "#### Model setup\n",
    "Now setup the model and name it!"
   ]
  },
  {
   "cell_type": "code",
   "execution_count": 1,
   "metadata": {},
   "outputs": [],
   "source": [
    "from discotimes.discotimes import file_reader \n",
    "from discotimes.discotimes import discotimes as dt\n",
    "from discotimes.model_settings import set_settings\n",
    "settings = set_settings()\n",
    "file = 'discotimes/examples/G103.txt'\n",
    "series = file_reader(file,variable='auto',resample='W')"
   ]
  },
  {
   "cell_type": "code",
   "execution_count": 5,
   "metadata": {},
   "outputs": [
    {
     "data": {
      "text/plain": [
       "Year\n",
       "2003-04-06    44.200050\n",
       "2003-04-13    44.201966\n",
       "2003-04-20    44.199864\n",
       "2003-04-27    44.201558\n",
       "2003-05-04    44.207151\n",
       "                ...    \n",
       "2020-10-04    44.334253\n",
       "2020-10-11    44.334183\n",
       "2020-10-18    44.336156\n",
       "2020-10-25    44.332631\n",
       "2020-11-01    44.328080\n",
       "Freq: W-SUN, Name: Height, Length: 918, dtype: float64"
      ]
     },
     "execution_count": 5,
     "metadata": {},
     "output_type": "execute_result"
    }
   ],
   "source": [
    "series"
   ]
  },
  {
   "cell_type": "code",
   "execution_count": 2,
   "metadata": {},
   "outputs": [
    {
     "name": "stdout",
     "output_type": "stream",
     "text": [
      "Normalize data\n",
      "Frequency: W\n",
      "first:  2003-04-06 00:00:00  last:  2020-11-01 00:00:00\n"
     ]
    }
   ],
   "source": [
    "dt_model = dt(series,settings=settings,name='G103')"
   ]
  },
  {
   "cell_type": "markdown",
   "metadata": {},
   "source": [
    "The normalized data can be assessed with"
   ]
  },
  {
   "cell_type": "code",
   "execution_count": 3,
   "metadata": {},
   "outputs": [
    {
     "data": {
      "text/plain": [
       "<matplotlib.axes._subplots.AxesSubplot at 0x7fc311363710>"
      ]
     },
     "execution_count": 3,
     "metadata": {},
     "output_type": "execute_result"
    },
    {
     "data": {
      "image/png": "[encoded data removed]",
      "text/plain": [
       "<Figure size 432x288 with 1 Axes>"
      ]
     },
     "metadata": {
      "needs_background": "light"
     },
     "output_type": "display_data"
    }
   ],
   "source": [
    "dt_model.obs.series_clean.plot()"
   ]
  },
  {
   "cell_type": "markdown",
   "metadata": {},
   "source": [
    "[back to top ](#top)"
   ]
  },
  {
   "cell_type": "markdown",
   "metadata": {},
   "source": [
    "-----\n",
    "### Running the model\n",
    "<a id='running'></a>\n",
    "\n",
    "Now run the model! Here we set only 4 chains and 2000 iterations."
   ]
  },
  {
   "cell_type": "code",
   "execution_count": 4,
   "metadata": {},
   "outputs": [
    {
     "name": "stderr",
     "output_type": "stream",
     "text": [
      "Multiprocess sampling (4 chains in 4 jobs)\n",
      "CompoundStep\n",
      ">NUTS: [beta, m_coeffs, trend_inc, trend_inc_sigma_est, positions, mu_pos, offsets, offset_sigma, sigma, trend, offset]\n",
      ">BinaryGibbsMetropolis: [act_number]\n"
     ]
    },
    {
     "data": {
      "text/html": [
       "\n",
       "    <div>\n",
       "        <style>\n",
       "            /* Turns off some styling */\n",
       "            progress {\n",
       "                /* gets rid of default border in Firefox and Opera. */\n",
       "                border: none;\n",
       "                /* Needs to be in here for Safari polyfill so background images work as expected. */\n",
       "                background-size: auto;\n",
       "            }\n",
       "            .progress-bar-interrupted, .progress-bar-interrupted::-webkit-progress-bar {\n",
       "                background: #F44336;\n",
       "            }\n",
       "        </style>\n",
       "      <progress value='16000' class='' max='16000' style='width:300px; height:20px; vertical-align: middle;'></progress>\n",
       "      100.00% [16000/16000 29:53<00:00 Sampling 4 chains, 0 divergences]\n",
       "    </div>\n",
       "    "
      ],
      "text/plain": [
       "<IPython.core.display.HTML object>"
      ]
     },
     "metadata": {},
     "output_type": "display_data"
    },
    {
     "name": "stderr",
     "output_type": "stream",
     "text": [
      "Sampling 4 chains for 2_000 tune and 2_000 draw iterations (8_000 + 8_000 draws total) took 1795 seconds.\n",
      "The acceptance probability does not match the target. It is 0.9860648007646505, but should be close to 0.9. Try to increase the number of tuning steps.\n",
      "The chain reached the maximum tree depth. Increase max_treedepth, increase target_accept or reparameterize.\n",
      "The chain reached the maximum tree depth. Increase max_treedepth, increase target_accept or reparameterize.\n",
      "The acceptance probability does not match the target. It is 0.8060834909645324, but should be close to 0.9. Try to increase the number of tuning steps.\n",
      "The chain reached the maximum tree depth. Increase max_treedepth, increase target_accept or reparameterize.\n",
      "The acceptance probability does not match the target. It is 0.7963204852816973, but should be close to 0.9. Try to increase the number of tuning steps.\n",
      "The chain reached the maximum tree depth. Increase max_treedepth, increase target_accept or reparameterize.\n",
      "The rhat statistic is larger than 1.4 for some parameters. The sampler did not converge.\n",
      "The estimated number of effective samples is smaller than 200 for some parameters.\n",
      "/home/oelsmann/.conda/envs/vlad_py37/lib/python3.6/site-packages/arviz/stats/stats.py:151: UserWarning: \n",
      "The scale is now log by default. Use 'scale' argument or 'stats.ic_scale' rcParam if you rely on a specific value.\n",
      "A higher log-score (or a lower deviance) indicates a model with better predictive accuracy.\n",
      "  \"\\nThe scale is now log by default. Use 'scale' argument or \"\n",
      "/home/oelsmann/.conda/envs/vlad_py37/lib/python3.6/site-packages/arviz/stats/stats.py:671: UserWarning: Estimated shape parameter of Pareto distribution is greater than 0.7 for one or more samples. You should consider using a more robust model, this is because importance sampling is less likely to work well if the marginal posterior and LOO posterior are very different. This is more likely to happen with a non-robust model and highly influential observations.\n",
      "  \"Estimated shape parameter of Pareto distribution is greater than 0.7 for \"\n",
      "/home/oelsmann/.conda/envs/vlad_py37/lib/python3.6/site-packages/arviz/stats/stats.py:701: UserWarning: The point-wise LOO is the same with the sum LOO, please double check the Observed RV in your model to make sure it returns element-wise logp.\n",
      "  \"The point-wise LOO is the same with the sum LOO, please double check \"\n"
     ]
    },
    {
     "name": "stdout",
     "output_type": "stream",
     "text": [
      "successfully compressed trace\n"
     ]
    },
    {
     "data": {
      "text/plain": [
       "<discotimes.discotimes.discotimes at 0x7fc3407961d0>"
      ]
     },
     "execution_count": 4,
     "metadata": {},
     "output_type": "execute_result"
    }
   ],
   "source": [
    "settings['run_settings']['n_samples']=2000\n",
    "settings['run_settings']['cores']=4\n",
    "dt_model.run(**settings['run_settings'])"
   ]
  },
  {
   "cell_type": "markdown",
   "metadata": {},
   "source": [
    "The trace was compressed after running the model. That means we only retain the mean and the standard-deviation of every parameter, not the full Markov Chain. To keep the full Markov chain use:"
   ]
  },
  {
   "cell_type": "code",
   "execution_count": 28,
   "metadata": {},
   "outputs": [],
   "source": [
    "# dt_model.run(keep_trace=True,**settings['run_settings'])"
   ]
  },
  {
   "cell_type": "markdown",
   "metadata": {},
   "source": [
    "The un-compressed trace will then be available in dt_model.trace['full_trace']"
   ]
  },
  {
   "cell_type": "markdown",
   "metadata": {},
   "source": [
    "To save and load the model use:"
   ]
  },
  {
   "cell_type": "code",
   "execution_count": null,
   "metadata": {},
   "outputs": [],
   "source": [
    "filed = 'discotimes/examples/'\n",
    "dt_model.save(save_dir=filed)\n",
    "dt_model=dt.load(save_dir=filed,name='G103')"
   ]
  },
  {
   "cell_type": "markdown",
   "metadata": {},
   "source": [
    "[back to top ](#top)\n",
    "\n",
    "<hr>"
   ]
  },
  {
   "cell_type": "markdown",
   "metadata": {},
   "source": [
    "### Plotting and Visualization\n",
    "<a id='plotting-and-visualization'></a>"
   ]
  },
  {
   "cell_type": "markdown",
   "metadata": {},
   "source": [
    "Now plot the posterior means of the Markov Chains"
   ]
  },
  {
   "cell_type": "code",
   "execution_count": 20,
   "metadata": {},
   "outputs": [
    {
     "data": {
      "image/png": "[encoded data removed]",
      "text/plain": [
       "<Figure size 720x576 with 2 Axes>"
      ]
     },
     "metadata": {
      "needs_background": "light"
     },
     "output_type": "display_data"
    }
   ],
   "source": [
    "dt_model.plot() "
   ]
  },
  {
   "cell_type": "markdown",
   "metadata": {},
   "source": [
    "As can be seen, the 4 chains behave differently. Chain 2 is here selected as the best possible fit. The selection is based on the lowest loo, as also described in the paper. There are different model selection options as noted in the next section."
   ]
  },
  {
   "cell_type": "markdown",
   "metadata": {},
   "source": [
    "[back to top ](#top)"
   ]
  },
  {
   "cell_type": "markdown",
   "metadata": {},
   "source": [
    "-----\n",
    "### Model output\n",
    "<a id='output'></a>\n"
   ]
  },
  {
   "cell_type": "markdown",
   "metadata": {},
   "source": [
    "#### Statistics\n",
    "\n",
    "Check chain_stats to see the loo-scores and other statistics, which are derived with pm.compare() (https://docs.pymc.io/notebooks/model_comparison.html)"
   ]
  },
  {
   "cell_type": "code",
   "execution_count": 27,
   "metadata": {},
   "outputs": [
    {
     "data": {
      "text/html": [
       "<div>\n",
       "<style scoped>\n",
       "    .dataframe tbody tr th:only-of-type {\n",
       "        vertical-align: middle;\n",
       "    }\n",
       "\n",
       "    .dataframe tbody tr th {\n",
       "        vertical-align: top;\n",
       "    }\n",
       "\n",
       "    .dataframe thead th {\n",
       "        text-align: right;\n",
       "    }\n",
       "</style>\n",
       "<table border=\"1\" class=\"dataframe\">\n",
       "  <thead>\n",
       "    <tr style=\"text-align: right;\">\n",
       "      <th></th>\n",
       "      <th>rank</th>\n",
       "      <th>loo</th>\n",
       "      <th>p_loo</th>\n",
       "      <th>d_loo</th>\n",
       "      <th>weight</th>\n",
       "      <th>se</th>\n",
       "      <th>dse</th>\n",
       "      <th>warning</th>\n",
       "      <th>loo_scale</th>\n",
       "      <th>chain_index</th>\n",
       "      <th>num</th>\n",
       "    </tr>\n",
       "  </thead>\n",
       "  <tbody>\n",
       "    <tr>\n",
       "      <th>2</th>\n",
       "      <td>0</td>\n",
       "      <td>-968.225</td>\n",
       "      <td>20.3524</td>\n",
       "      <td>0</td>\n",
       "      <td>1</td>\n",
       "      <td>2.0432e-11</td>\n",
       "      <td>0</td>\n",
       "      <td>True</td>\n",
       "      <td>log</td>\n",
       "      <td>2</td>\n",
       "      <td>4</td>\n",
       "    </tr>\n",
       "    <tr>\n",
       "      <th>0</th>\n",
       "      <td>1</td>\n",
       "      <td>-1025.86</td>\n",
       "      <td>31.9382</td>\n",
       "      <td>57.6297</td>\n",
       "      <td>9.36954e-26</td>\n",
       "      <td>1.01023e-11</td>\n",
       "      <td>0</td>\n",
       "      <td>True</td>\n",
       "      <td>log</td>\n",
       "      <td>0</td>\n",
       "      <td>3</td>\n",
       "    </tr>\n",
       "    <tr>\n",
       "      <th>3</th>\n",
       "      <td>2</td>\n",
       "      <td>-1068.97</td>\n",
       "      <td>91.4944</td>\n",
       "      <td>100.745</td>\n",
       "      <td>1.7654e-44</td>\n",
       "      <td>2.47054e-12</td>\n",
       "      <td>0</td>\n",
       "      <td>True</td>\n",
       "      <td>log</td>\n",
       "      <td>3</td>\n",
       "      <td>4</td>\n",
       "    </tr>\n",
       "    <tr>\n",
       "      <th>1</th>\n",
       "      <td>3</td>\n",
       "      <td>-1134.81</td>\n",
       "      <td>1.63601</td>\n",
       "      <td>166.584</td>\n",
       "      <td>4.50485e-73</td>\n",
       "      <td>1.11098e-11</td>\n",
       "      <td>0</td>\n",
       "      <td>False</td>\n",
       "      <td>log</td>\n",
       "      <td>1</td>\n",
       "      <td>2</td>\n",
       "    </tr>\n",
       "  </tbody>\n",
       "</table>\n",
       "</div>"
      ],
      "text/plain": [
       "  rank      loo    p_loo    d_loo       weight           se dse warning  \\\n",
       "2    0 -968.225  20.3524        0            1   2.0432e-11   0    True   \n",
       "0    1 -1025.86  31.9382  57.6297  9.36954e-26  1.01023e-11   0    True   \n",
       "3    2 -1068.97  91.4944  100.745   1.7654e-44  2.47054e-12   0    True   \n",
       "1    3 -1134.81  1.63601  166.584  4.50485e-73  1.11098e-11   0   False   \n",
       "\n",
       "  loo_scale  chain_index  num  \n",
       "2       log            2    4  \n",
       "0       log            0    3  \n",
       "3       log            3    4  \n",
       "1       log            1    2  "
      ]
     },
     "execution_count": 27,
     "metadata": {},
     "output_type": "execute_result"
    }
   ],
   "source": [
    "dt_model.chain_stats['stats']"
   ]
  },
  {
   "cell_type": "markdown",
   "metadata": {},
   "source": [
    "the last column Num shows the estimated number of change points. The best chain according to loo is in "
   ]
  },
  {
   "cell_type": "code",
   "execution_count": 30,
   "metadata": {},
   "outputs": [
    {
     "data": {
      "text/plain": [
       "2"
      ]
     },
     "execution_count": 30,
     "metadata": {},
     "output_type": "execute_result"
    }
   ],
   "source": [
    "dt_model.chain_stats['best_loo']"
   ]
  },
  {
   "cell_type": "markdown",
   "metadata": {},
   "source": [
    "There are different options to select the most appropriate model, see Oelsmann et al., 2021. These are:\n",
    "* 'avg_best_loo': This is takes into account the average (across the ensemble) estimated number of cp, as well as the loo-statistic (medium conservative choice)\n",
    "* 'best_loo': Selects the best model solely based on loo (least conservative choice)\n",
    "* 'lowest_p_loo': Selects the model according to the lowest number of effective parameters (p_loo) (most conservative choice)"
   ]
  },
  {
   "cell_type": "markdown",
   "metadata": {},
   "source": [
    "A recommendation is to use 'avg_best_loo' for GNSS data and 'lowest_p_loo' for noiser data such as SATTG time series."
   ]
  },
  {
   "cell_type": "markdown",
   "metadata": {},
   "source": [
    "#### Trace\n",
    "The Trace is an dictionary of arviz.InferenceData objects https://arviz-devs.github.io/arviz/api/generated/arviz.InferenceData.html:"
   ]
  },
  {
   "cell_type": "code",
   "execution_count": 31,
   "metadata": {},
   "outputs": [
    {
     "data": {
      "text/plain": [
       "{'mean': Inference data with groups:\n",
       " \t> posterior\n",
       " \t> log_likelihood\n",
       " \t> sample_stats,\n",
       " 'std': Inference data with groups:\n",
       " \t> posterior\n",
       " \t> log_likelihood\n",
       " \t> sample_stats}"
      ]
     },
     "execution_count": 31,
     "metadata": {},
     "output_type": "execute_result"
    }
   ],
   "source": [
    "dt_model.trace"
   ]
  },
  {
   "cell_type": "markdown",
   "metadata": {},
   "source": [
    "Here the data was compressed and stored as mean and std of the full chains. The mean of the parameter posteriors are still referring to the normalized data. That means they have to be rescaled by dt_model.obs.std."
   ]
  },
  {
   "cell_type": "code",
   "execution_count": 35,
   "metadata": {},
   "outputs": [
    {
     "data": {
      "text/html": [
       "<pre>&lt;xarray.Dataset&gt;\n",
       "Dimensions:              (act_number_dim_0: 5, annual_dim_0: 893, chain: 4, m_coeffs_dim_0: 12, mu_dim_0: 893, mu_pos_dim_0: 5, mult_dim_0: 5, offsets_dim_0: 5, positions_dim_0: 5, trend_inc_dim_0: 5)\n",
       "Coordinates:\n",
       "  * chain                (chain) int64 0 1 2 3\n",
       "  * act_number_dim_0     (act_number_dim_0) int64 0 1 2 3 4\n",
       "  * offsets_dim_0        (offsets_dim_0) int64 0 1 2 3 4\n",
       "  * positions_dim_0      (positions_dim_0) int64 0 1 2 3 4\n",
       "  * trend_inc_dim_0      (trend_inc_dim_0) int64 0 1 2 3 4\n",
       "  * m_coeffs_dim_0       (m_coeffs_dim_0) int64 0 1 2 3 4 5 6 7 8 9 10 11\n",
       "  * mult_dim_0           (mult_dim_0) int64 0 1 2 3 4\n",
       "  * mu_pos_dim_0         (mu_pos_dim_0) int64 0 1 2 3 4\n",
       "  * annual_dim_0         (annual_dim_0) int64 0 1 2 3 4 ... 888 889 890 891 892\n",
       "  * mu_dim_0             (mu_dim_0) int64 0 1 2 3 4 5 ... 888 889 890 891 892\n",
       "Data variables:\n",
       "    offset               (chain) float64 0.3555 -0.007578 0.3103 0.1035\n",
       "    trend                (chain) float64 0.3848 0.7776 -0.8904 0.3417\n",
       "    act_number           (chain, act_number_dim_0) float64 0.5895 1.0 ... 0.006\n",
       "    offsets              (chain, offsets_dim_0) float64 -0.522 4.116 ... 0.4718\n",
       "    positions            (chain, positions_dim_0) float64 17.52 10.03 ... 5.793\n",
       "    trend_inc            (chain, trend_inc_dim_0) float64 0.8799 ... 0.6054\n",
       "    m_coeffs             (chain, m_coeffs_dim_0) float64 0.0181 ... 0.3322\n",
       "    sigma                (chain) float64 0.8019 0.8705 0.7089 0.7665\n",
       "    offset_sigma         (chain) float64 5.068 1.339 7.431 1.249\n",
       "    mult                 (chain, mult_dim_0) float64 0.5895 1.0 ... 0.9995 0.006\n",
       "    mu_pos               (chain, mu_pos_dim_0) float64 4.805 6.049 ... 6.228\n",
       "    trend_inc_sigma_est  (chain) float64 0.696 0.6343 1.423 2.974\n",
       "    annual               (chain, annual_dim_0) float64 -0.8173 ... 0.01546\n",
       "    mu                   (chain, mu_dim_0) float64 -0.4618 -0.4544 ... 30.83\n",
       "    beta                 (chain) float64 0.4345 0.9482 0.3116 0.5096</pre>"
      ],
      "text/plain": [
       "<xarray.Dataset>\n",
       "Dimensions:              (act_number_dim_0: 5, annual_dim_0: 893, chain: 4, m_coeffs_dim_0: 12, mu_dim_0: 893, mu_pos_dim_0: 5, mult_dim_0: 5, offsets_dim_0: 5, positions_dim_0: 5, trend_inc_dim_0: 5)\n",
       "Coordinates:\n",
       "  * chain                (chain) int64 0 1 2 3\n",
       "  * act_number_dim_0     (act_number_dim_0) int64 0 1 2 3 4\n",
       "  * offsets_dim_0        (offsets_dim_0) int64 0 1 2 3 4\n",
       "  * positions_dim_0      (positions_dim_0) int64 0 1 2 3 4\n",
       "  * trend_inc_dim_0      (trend_inc_dim_0) int64 0 1 2 3 4\n",
       "  * m_coeffs_dim_0       (m_coeffs_dim_0) int64 0 1 2 3 4 5 6 7 8 9 10 11\n",
       "  * mult_dim_0           (mult_dim_0) int64 0 1 2 3 4\n",
       "  * mu_pos_dim_0         (mu_pos_dim_0) int64 0 1 2 3 4\n",
       "  * annual_dim_0         (annual_dim_0) int64 0 1 2 3 4 ... 888 889 890 891 892\n",
       "  * mu_dim_0             (mu_dim_0) int64 0 1 2 3 4 5 ... 888 889 890 891 892\n",
       "Data variables:\n",
       "    offset               (chain) float64 0.3555 -0.007578 0.3103 0.1035\n",
       "    trend                (chain) float64 0.3848 0.7776 -0.8904 0.3417\n",
       "    act_number           (chain, act_number_dim_0) float64 0.5895 1.0 ... 0.006\n",
       "    offsets              (chain, offsets_dim_0) float64 -0.522 4.116 ... 0.4718\n",
       "    positions            (chain, positions_dim_0) float64 17.52 10.03 ... 5.793\n",
       "    trend_inc            (chain, trend_inc_dim_0) float64 0.8799 ... 0.6054\n",
       "    m_coeffs             (chain, m_coeffs_dim_0) float64 0.0181 ... 0.3322\n",
       "    sigma                (chain) float64 0.8019 0.8705 0.7089 0.7665\n",
       "    offset_sigma         (chain) float64 5.068 1.339 7.431 1.249\n",
       "    mult                 (chain, mult_dim_0) float64 0.5895 1.0 ... 0.9995 0.006\n",
       "    mu_pos               (chain, mu_pos_dim_0) float64 4.805 6.049 ... 6.228\n",
       "    trend_inc_sigma_est  (chain) float64 0.696 0.6343 1.423 2.974\n",
       "    annual               (chain, annual_dim_0) float64 -0.8173 ... 0.01546\n",
       "    mu                   (chain, mu_dim_0) float64 -0.4618 -0.4544 ... 30.83\n",
       "    beta                 (chain) float64 0.4345 0.9482 0.3116 0.5096"
      ]
     },
     "execution_count": 35,
     "metadata": {},
     "output_type": "execute_result"
    }
   ],
   "source": [
    "dt_model.trace['mean'].posterior"
   ]
  },
  {
   "cell_type": "markdown",
   "metadata": {},
   "source": [
    "Sampling statistics can be obtained from:"
   ]
  },
  {
   "cell_type": "code",
   "execution_count": 37,
   "metadata": {},
   "outputs": [
    {
     "data": {
      "text/html": [
       "<pre>&lt;xarray.Dataset&gt;\n",
       "Dimensions:             (chain: 4)\n",
       "Coordinates:\n",
       "  * chain               (chain) int64 0 1 2 3\n",
       "Data variables:\n",
       "    energy_error        (chain) float64 0.002132 -0.0006792 -0.003922 -0.01888\n",
       "    step_size_bar       (chain) float64 0.0006214 0.000436 0.0009349 0.0007112\n",
       "    perf_counter_diff   (chain) float64 0.4677 0.4562 0.4554 0.4476\n",
       "    lp                  (chain) float64 -1.081e+03 -1.192e+03 ... -1.096e+03\n",
       "    process_time_diff   (chain) float64 0.4677 0.4562 0.4554 0.4476\n",
       "    max_energy_error    (chain) float64 1.747 2.798 14.73 9.391\n",
       "    diverging           (chain) float64 0.0 0.0 0.0 0.0\n",
       "    step_size           (chain) float64 0.0003374 0.0002056 0.0001446 0.0006473\n",
       "    mean_tree_accept    (chain) float64 0.9861 0.8608 0.8061 0.7963\n",
       "    tree_size           (chain) float64 1.023e+03 1.023e+03 1.023e+03 1.023e+03\n",
       "    perf_counter_start  (chain) float64 1.167e+07 1.167e+07 1.167e+07 1.167e+07\n",
       "    energy              (chain) float64 1.1e+03 1.211e+03 1.051e+03 1.115e+03\n",
       "    depth               (chain) float64 10.0 10.0 10.0 10.0</pre>"
      ],
      "text/plain": [
       "<xarray.Dataset>\n",
       "Dimensions:             (chain: 4)\n",
       "Coordinates:\n",
       "  * chain               (chain) int64 0 1 2 3\n",
       "Data variables:\n",
       "    energy_error        (chain) float64 0.002132 -0.0006792 -0.003922 -0.01888\n",
       "    step_size_bar       (chain) float64 0.0006214 0.000436 0.0009349 0.0007112\n",
       "    perf_counter_diff   (chain) float64 0.4677 0.4562 0.4554 0.4476\n",
       "    lp                  (chain) float64 -1.081e+03 -1.192e+03 ... -1.096e+03\n",
       "    process_time_diff   (chain) float64 0.4677 0.4562 0.4554 0.4476\n",
       "    max_energy_error    (chain) float64 1.747 2.798 14.73 9.391\n",
       "    diverging           (chain) float64 0.0 0.0 0.0 0.0\n",
       "    step_size           (chain) float64 0.0003374 0.0002056 0.0001446 0.0006473\n",
       "    mean_tree_accept    (chain) float64 0.9861 0.8608 0.8061 0.7963\n",
       "    tree_size           (chain) float64 1.023e+03 1.023e+03 1.023e+03 1.023e+03\n",
       "    perf_counter_start  (chain) float64 1.167e+07 1.167e+07 1.167e+07 1.167e+07\n",
       "    energy              (chain) float64 1.1e+03 1.211e+03 1.051e+03 1.115e+03\n",
       "    depth               (chain) float64 10.0 10.0 10.0 10.0"
      ]
     },
     "execution_count": 37,
     "metadata": {},
     "output_type": "execute_result"
    }
   ],
   "source": [
    "dt_model.trace['mean'].sample_stats"
   ]
  },
  {
   "cell_type": "markdown",
   "metadata": {},
   "source": [
    "#### Conversion to xr.DataSet\n",
    "To ease readability of the parameter estimates, you can use following function:"
   ]
  },
  {
   "cell_type": "code",
   "execution_count": 161,
   "metadata": {},
   "outputs": [
    {
     "data": {
      "text/html": [
       "<pre>&lt;xarray.Dataset&gt;\n",
       "Dimensions:          (chain: 4, v_dim: 6, x: 1)\n",
       "Coordinates:\n",
       "    name             (x) &lt;U4 &#x27;G103&#x27;\n",
       "  * chain            (chain) int64 0 1 2 3\n",
       "Dimensions without coordinates: v_dim, x\n",
       "Data variables:\n",
       "    trend            (x, chain, v_dim) float64 0.001728 0.008308 ... nan\n",
       "    trend_err        (x, chain, v_dim) float64 0.0001816 0.0007506 ... nan\n",
       "    offsets          (x, chain, v_dim) float64 0.001597 0.03629 ... nan\n",
       "    start_pos        (x, chain, v_dim) float64 1.945e+04 2.236e+04 ... nan\n",
       "    end_pos          (x, chain, v_dim) float64 2.235e+04 2.31e+04 ... nan\n",
       "    diff             (x, chain, v_dim) float64 2.898e+03 742.0 ... 1.134e+03 nan\n",
       "    number_cp        (x, chain) float64 3.0 2.0 4.0 4.0\n",
       "    best_loo         (x) float64 2.0\n",
       "    lowest_p_loo     (x) float64 1.0\n",
       "    avg_best_loo     (x) float64 0.0\n",
       "    loo              (x, chain) float64 -1.026e+03 -1.135e+03 -968.2 -1.069e+03\n",
       "    p_loo            (x, chain) float64 31.94 1.636 20.35 91.49\n",
       "    last_obs         (x) float64 2.587e+04\n",
       "    first_obs        (x) float64 1.945e+04\n",
       "    sigma_noise      (x, chain) float64 0.003602 0.00391 0.003184 0.003443\n",
       "    accepted         (x, chain) float64 0.9861 0.8608 0.8061 0.7963\n",
       "    geweke_converge  (x, chain) float64 -1.642 -0.3152 1.633 2.854\n",
       "    diverging        (x, chain) float64 0.0 0.0 0.0 0.0\n",
       "Attributes:\n",
       "    n_changepoints:            5\n",
       "    offsets_std:               20.0\n",
       "    model:                     None\n",
       "    name:                      \n",
       "    change_trend:              True\n",
       "    change_offsets:            True\n",
       "    n_samples:                 8000\n",
       "    trend_inc_sigma:           1.0\n",
       "    post_seismic:              False\n",
       "    estimate_offset_sigma:     True\n",
       "    estimate_trend_inc_sigma:  True\n",
       "    annual_cycle:              True\n",
       "    AR1:                       True\n",
       "    p_:                        0.1\n",
       "    initial_values:            {}\n",
       "    model_type:                exp\n",
       "    info:                      Data created with DiscoTimeS on 2021-03-29</pre>"
      ],
      "text/plain": [
       "<xarray.Dataset>\n",
       "Dimensions:          (chain: 4, v_dim: 6, x: 1)\n",
       "Coordinates:\n",
       "    name             (x) <U4 'G103'\n",
       "  * chain            (chain) int64 0 1 2 3\n",
       "Dimensions without coordinates: v_dim, x\n",
       "Data variables:\n",
       "    trend            (x, chain, v_dim) float64 0.001728 0.008308 ... nan\n",
       "    trend_err        (x, chain, v_dim) float64 0.0001816 0.0007506 ... nan\n",
       "    offsets          (x, chain, v_dim) float64 0.001597 0.03629 ... nan\n",
       "    start_pos        (x, chain, v_dim) float64 1.945e+04 2.236e+04 ... nan\n",
       "    end_pos          (x, chain, v_dim) float64 2.235e+04 2.31e+04 ... nan\n",
       "    diff             (x, chain, v_dim) float64 2.898e+03 742.0 ... 1.134e+03 nan\n",
       "    number_cp        (x, chain) float64 3.0 2.0 4.0 4.0\n",
       "    best_loo         (x) float64 2.0\n",
       "    lowest_p_loo     (x) float64 1.0\n",
       "    avg_best_loo     (x) float64 0.0\n",
       "    loo              (x, chain) float64 -1.026e+03 -1.135e+03 -968.2 -1.069e+03\n",
       "    p_loo            (x, chain) float64 31.94 1.636 20.35 91.49\n",
       "    last_obs         (x) float64 2.587e+04\n",
       "    first_obs        (x) float64 1.945e+04\n",
       "    sigma_noise      (x, chain) float64 0.003602 0.00391 0.003184 0.003443\n",
       "    accepted         (x, chain) float64 0.9861 0.8608 0.8061 0.7963\n",
       "    geweke_converge  (x, chain) float64 -1.642 -0.3152 1.633 2.854\n",
       "    diverging        (x, chain) float64 0.0 0.0 0.0 0.0\n",
       "Attributes:\n",
       "    n_changepoints:            5\n",
       "    offsets_std:               20.0\n",
       "    model:                     None\n",
       "    name:                      \n",
       "    change_trend:              True\n",
       "    change_offsets:            True\n",
       "    n_samples:                 8000\n",
       "    trend_inc_sigma:           1.0\n",
       "    post_seismic:              False\n",
       "    estimate_offset_sigma:     True\n",
       "    estimate_trend_inc_sigma:  True\n",
       "    annual_cycle:              True\n",
       "    AR1:                       True\n",
       "    p_:                        0.1\n",
       "    initial_values:            {}\n",
       "    model_type:                exp\n",
       "    info:                      Data created with DiscoTimeS on 2021-03-29"
      ]
     },
     "execution_count": 161,
     "metadata": {},
     "output_type": "execute_result"
    }
   ],
   "source": [
    "dt_model.to_nc()"
   ]
  },
  {
   "cell_type": "markdown",
   "metadata": {},
   "source": [
    "This returns a xr.DataSet which can be stored as netcdf, with:"
   ]
  },
  {
   "cell_type": "code",
   "execution_count": 72,
   "metadata": {},
   "outputs": [],
   "source": [
    "save_dir = 'example_dir/example_name.nc'\n",
    "dt_model.to_nc().to_netcdf(save_dir)"
   ]
  },
  {
   "cell_type": "markdown",
   "metadata": {},
   "source": [
    "Start positions, for example, are here stored as days since 1950-01-01. The xr.Dataset has next to the chain-dimension the v-dim-dimension in which the different estimated time series segment information are stored. The x-dimension is defined in case multiple fits are appended to each other."
   ]
  },
  {
   "cell_type": "markdown",
   "metadata": {},
   "source": [
    "To select the best chain use:"
   ]
  },
  {
   "cell_type": "code",
   "execution_count": 71,
   "metadata": {},
   "outputs": [],
   "source": [
    "selection = 'avg_best_loo' # example selection\n",
    "dt_model_nc = dt_model.to_nc()\n",
    "dt_model_nc = dt_model_nc.where((dt_model_nc.chain == dt_model_nc[selection]),drop=True).mean(dim='chain')"
   ]
  },
  {
   "cell_type": "markdown",
   "metadata": {},
   "source": [
    "[back to top ](#top)\n",
    "<hr>"
   ]
  },
  {
   "cell_type": "markdown",
   "metadata": {},
   "source": [
    "### Command line interface - Fitting multiple files\n",
    "<a id='cli'></a>\n"
   ]
  },
  {
   "cell_type": "markdown",
   "metadata": {},
   "source": [
    "To start the time series analysis from the command line, activate your python environment in which you installed the pymc3, thenao and discotimes packages:"
   ]
  },
  {
   "cell_type": "code",
   "execution_count": 9,
   "metadata": {},
   "outputs": [],
   "source": [
    "conda activate <env_name>\n",
    "discofit.py --help"
   ]
  },
  {
   "cell_type": "code",
   "execution_count": 10,
   "metadata": {},
   "outputs": [],
   "source": [
    "usage: use \"discofit.py --help\" for more information\n",
    "\n",
    "\n",
    "       Example:\n",
    "\n",
    "       discofit.py examples/*.txt -o tests/test_output/ -s tests/custom_settings.py\n",
    "\n",
    "       DiscoTimeS Copyright (C) 2021 Julius Oelsmann\n",
    "       This program comes with ABSOLUTELY NO WARRANTY;\n",
    "       This is free software, and you are welcome to redistribute it\n",
    "       under certain conditions;\n",
    "\n",
    "Settings to run discotimes\n",
    "\n",
    "positional arguments:\n",
    "  files\n",
    "\n",
    "optional arguments:\n",
    "  -h, --help            show this help message and exit\n",
    "  -p, --plot            turn on plotting\n",
    "  -v VARIABLE, --variable VARIABLE\n",
    "                        variable name\n",
    "  -r RESAMPLE, --resample RESAMPLE\n",
    "                        resampling frequency, e.g. D, W, M, default: D\n",
    "  -o OUTPUT_DIRECTORY, --output_directory OUTPUT_DIRECTORY\n",
    "                        output_directory\n",
    "  -c, --concatenate     concatenate all files\n",
    "  -t OUTPUT_TYPE, --output_type OUTPUT_TYPE\n",
    "                        output type: netcdf or dt\n",
    "  -s SETTING_FILE, --setting_file SETTING_FILE\n",
    "                        define location of custom settings file\n",
    "  -i                    show program's version number and exit\n"
   ]
  },
  {
   "cell_type": "markdown",
   "metadata": {},
   "source": [
    "* You can fit single or multiple files, by using the filename(s) as arguments. \n",
    "* Declare the VARIABLE name (or column index) as shown for the file_reader function.\n",
    "* The output is stored in OUTPUT_DIRECTORY (this is a required field).\n",
    "* Use different resampling periods, such as 'D', 'W', 'M' and 'Y' (for now irregular hourly data is not supported yet).\n",
    "* In case multiple time series are fitted you can concatenate the output together in one single netcdf file (use -c), otherwise a file of type -t OUTPUT_TYPE is saved.\n",
    "* Custom settings can be set using a SETTING_FILE. Parameters in the SETTING_FILE overwrite the standard settings, [see model setup](#setup).\n",
    "    * To define your own custom settings the best strategy is to copy the example settings-file from https://github.com/oelsmann/discotimes/blob/master/discotimes/tests/custom_settings.py to a directory of your choice\n",
    "    * Change the parameters, and define the location of your custom settings-file with -s SETTING_FILE\n",
    "\n",
    "\n",
    "\n"
   ]
  },
  {
   "cell_type": "markdown",
   "metadata": {},
   "source": [
    "[back to top ](#top)\n",
    "<hr>"
   ]
  },
  {
   "cell_type": "markdown",
   "metadata": {},
   "source": [
    "### References\n",
    "<a id='References'></a>\n"
   ]
  },
  {
   "cell_type": "markdown",
   "metadata": {},
   "source": [
    "Oelsmann, J.; Passaro, M.; Sánchez, L.; Dettmering, D.; Schwatke, C.; Seitz, F.; Bayesian modelling of piecewise trends and discontinuities to improve the estimation of coastal vertical land motion. Submitted to Journal of Geodesy, 2021\n",
    "\n",
    "### Data sources\n",
    "\n",
    "Blewitt G, Kreemer C, Hammond WC, Gazeaux J (2016) Midas robust trend estimator for accurate gps station velocities without step detection. Journal of Geophysical Research: Solid Earth 121(3):2054–2068, DOI 10.1002/2015JB01255    \n",
    "    \n",
    "Caron L, Ivins ER, Larour E, Adhikari S, Nilsson J, Blewitt G (2018) Gia model statistics for grace hydrology, cryosphere, and ocean science. Geophysical Research Letters 45(5):2203– 2212, DOI 10.1002/2017GL076644    \n",
    "    \n",
    "Frederikse T, Landerer F, Caron L, Adhikari S, Parkes D, Humphrey V, Dangendorf S, Hogarth P, Zanna L, Cheng L, Wu YH (2020) The causes of sea-level rise since 1900. Nature 584:393–397, DOI 10.1038/s41586-020-2591-3\n",
    "    \n",
    "Holgate SJ, Matthews A, Woodworth PL, Rickards LJ, Tamisiea ME, Bradshaw E, Fo-den  PR,  Gordon  KM,  Jevrejeva  S,  Pugh  J  (2013)  New  Data  Systems  and  Products at the  Permanent  Service  for  Mean  Sea  Level.  Journal  of  Coastal  Research  pp  493–504,  DOI  10.2112/JCOASTRES-D-12-00175.1,  URLhttps://doi.org/10.2112/JCOASTRES-D-12-00175.1    \n",
    "    "
   ]
  },
  {
   "cell_type": "markdown",
   "metadata": {},
   "source": [
    "[back to top ](#top)"
   ]
  }
 ],
 "metadata": {
  "kernelspec": {
   "display_name": "Python 3",
   "language": "python",
   "name": "python3"
  },
  "language_info": {
   "codemirror_mode": {
    "name": "ipython",
    "version": 3
   },
   "file_extension": ".py",
   "mimetype": "text/x-python",
   "name": "python",
   "nbconvert_exporter": "python",
   "pygments_lexer": "ipython3",
   "version": "3.6.10"
  }
 },
 "nbformat": 4,
 "nbformat_minor": 4
}
